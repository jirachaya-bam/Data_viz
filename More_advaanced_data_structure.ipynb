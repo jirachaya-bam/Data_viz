{
  "nbformat": 4,
  "nbformat_minor": 0,
  "metadata": {
    "colab": {
      "name": "More advaanced data structure.ipynb",
      "provenance": [],
      "authorship_tag": "ABX9TyP664rf/J2dDfIDwz3vRTSD",
      "include_colab_link": true
    },
    "kernelspec": {
      "name": "python3",
      "display_name": "Python 3"
    }
  },
  "cells": [
    {
      "cell_type": "markdown",
      "metadata": {
        "id": "view-in-github",
        "colab_type": "text"
      },
      "source": [
        "<a href=\"https://colab.research.google.com/github/jirachaya-bam/Data_viz/blob/main/More_advaanced_data_structure.ipynb\" target=\"_parent\"><img src=\"https://colab.research.google.com/assets/colab-badge.svg\" alt=\"Open In Colab\"/></a>"
      ]
    },
    {
      "cell_type": "code",
      "metadata": {
        "id": "sQ6voZYal5Em"
      },
      "source": [
        "ที่เรียนไปแล้วมี 1 ตัวคือ list หน้าตาประมาณนี้"
      ],
      "execution_count": null,
      "outputs": []
    },
    {
      "cell_type": "code",
      "metadata": {
        "id": "VmVd2UyVmUHm"
      },
      "source": [
        ""
      ],
      "execution_count": null,
      "outputs": []
    },
    {
      "cell_type": "markdown",
      "metadata": {
        "id": "khyxzdoFna9R"
      },
      "source": [
        "#Dictionary\r\n",
        "\r\n",
        "สามารถ index ด้วยอะก็ได้ แต่ลำดับจะหายไป"
      ]
    },
    {
      "cell_type": "code",
      "metadata": {
        "id": "2FTUjD13oNoq"
      },
      "source": [
        "ex_dict = {'a ' :10, '1' :1, 'stat':5} #curly brackets ในการบอกว่าเป็น dict"
      ],
      "execution_count": 1,
      "outputs": []
    },
    {
      "cell_type": "code",
      "metadata": {
        "colab": {
          "base_uri": "https://localhost:8080/"
        },
        "id": "Y4mce4iBpDnn",
        "outputId": "6b4ebf01-ef5c-411d-de70-69fd84a09555"
      },
      "source": [
        "ex_dict['stat']"
      ],
      "execution_count": 2,
      "outputs": [
        {
          "output_type": "execute_result",
          "data": {
            "text/plain": [
              "5"
            ]
          },
          "metadata": {
            "tags": []
          },
          "execution_count": 2
        }
      ]
    },
    {
      "cell_type": "code",
      "metadata": {
        "id": "Z-J8T0b1pK6T"
      },
      "source": [
        "ex2_dict = {1:'one' , 2:'two' , 3:'three'}"
      ],
      "execution_count": 7,
      "outputs": []
    },
    {
      "cell_type": "code",
      "metadata": {
        "colab": {
          "base_uri": "https://localhost:8080/",
          "height": 34
        },
        "id": "Kse86w-jp00q",
        "outputId": "6ac3e456-c3a5-4c45-eed9-0f036fe87e02"
      },
      "source": [
        "ex2_dict[2]"
      ],
      "execution_count": 8,
      "outputs": [
        {
          "output_type": "execute_result",
          "data": {
            "application/vnd.google.colaboratory.intrinsic+json": {
              "type": "string"
            },
            "text/plain": [
              "'two'"
            ]
          },
          "metadata": {
            "tags": []
          },
          "execution_count": 8
        }
      ]
    },
    {
      "cell_type": "markdown",
      "metadata": {
        "id": "Pnsr0wF0qnJm"
      },
      "source": [
        "#การเพิ่มสมาชิก"
      ]
    },
    {
      "cell_type": "code",
      "metadata": {
        "id": "CdrRzMK5qs95"
      },
      "source": [
        "ex2_dict[0] = 'zero'"
      ],
      "execution_count": 9,
      "outputs": []
    },
    {
      "cell_type": "code",
      "metadata": {
        "colab": {
          "base_uri": "https://localhost:8080/"
        },
        "id": "EZRqGD_hqzX_",
        "outputId": "86adda8d-22eb-4b1a-e8b0-b887f8e4b1c5"
      },
      "source": [
        "ex2_dict"
      ],
      "execution_count": 10,
      "outputs": [
        {
          "output_type": "execute_result",
          "data": {
            "text/plain": [
              "{0: 'zero', 1: 'one', 2: 'two', 3: 'three'}"
            ]
          },
          "metadata": {
            "tags": []
          },
          "execution_count": 10
        }
      ]
    },
    {
      "cell_type": "markdown",
      "metadata": {
        "id": "oi5iybVMq6TB"
      },
      "source": [
        "คำสั่ง"
      ]
    },
    {
      "cell_type": "code",
      "metadata": {
        "colab": {
          "base_uri": "https://localhost:8080/"
        },
        "id": "cVizkziOq9zZ",
        "outputId": "cfe1b7f0-e6ac-4e09-fd59-10e6bf8212d4"
      },
      "source": [
        "ex2_dict.keys()"
      ],
      "execution_count": 12,
      "outputs": [
        {
          "output_type": "execute_result",
          "data": {
            "text/plain": [
              "dict_keys([1, 2, 3, 0])"
            ]
          },
          "metadata": {
            "tags": []
          },
          "execution_count": 12
        }
      ]
    },
    {
      "cell_type": "code",
      "metadata": {
        "colab": {
          "base_uri": "https://localhost:8080/"
        },
        "id": "QApzJN0BrKrY",
        "outputId": "58e58403-de88-45ec-b0b5-1662fc47e7de"
      },
      "source": [
        "for index in ex2_dict.keys():\r\n",
        "      print(index)"
      ],
      "execution_count": 13,
      "outputs": [
        {
          "output_type": "stream",
          "text": [
            "1\n",
            "2\n",
            "3\n",
            "0\n"
          ],
          "name": "stdout"
        }
      ]
    },
    {
      "cell_type": "code",
      "metadata": {
        "colab": {
          "base_uri": "https://localhost:8080/"
        },
        "id": "PwVGDrEBrVs6",
        "outputId": "13550a97-1833-487e-d3d3-82ddceca2075"
      },
      "source": [
        "ex2_dict.values()"
      ],
      "execution_count": 14,
      "outputs": [
        {
          "output_type": "execute_result",
          "data": {
            "text/plain": [
              "dict_values(['one', 'two', 'three', 'zero'])"
            ]
          },
          "metadata": {
            "tags": []
          },
          "execution_count": 14
        }
      ]
    },
    {
      "cell_type": "code",
      "metadata": {
        "colab": {
          "base_uri": "https://localhost:8080/"
        },
        "id": "qBabXadsr0qL",
        "outputId": "a75dfb95-1b50-46cd-9332-e6fee42145c4"
      },
      "source": [
        " index\r\n",
        " "
      ],
      "execution_count": 15,
      "outputs": [
        {
          "output_type": "execute_result",
          "data": {
            "text/plain": [
              "0"
            ]
          },
          "metadata": {
            "tags": []
          },
          "execution_count": 15
        }
      ]
    },
    {
      "cell_type": "markdown",
      "metadata": {
        "id": "3F5IA0_mtMeQ"
      },
      "source": [
        "dict เอาไปใช้ร่วมกับ dataframe "
      ]
    },
    {
      "cell_type": "markdown",
      "metadata": {
        "id": "6Z0MtlbTt7dO"
      },
      "source": [
        "numpy คือ package ที่ทำงานเกี่ยวกับ  array ของตัวเลข (ที่มีคนเขียนขึ้นมาและนิยมใช้)\r\n",
        "\r\n",
        "numpy -> number python\r\n"
      ]
    },
    {
      "cell_type": "code",
      "metadata": {
        "id": "2Jgc6Uj1t3lt"
      },
      "source": [
        "import numpy #วิธีเรียกใช้งาน package"
      ],
      "execution_count": 16,
      "outputs": []
    },
    {
      "cell_type": "markdown",
      "metadata": {
        "id": "CrWE1mpKvBP0"
      },
      "source": [
        "#สร้าง numpy array"
      ]
    },
    {
      "cell_type": "code",
      "metadata": {
        "id": "BTJvQeKluinZ",
        "outputId": "072352f7-288a-4a86-e276-3551d8a1e6c7",
        "colab": {
          "base_uri": "https://localhost:8080/"
        }
      },
      "source": [
        "ex_2d_array = numpy.array([[5.2,3.0,4.5],[9.1,0.1,0.3]])\r\n",
        "print(ex_2d_array)"
      ],
      "execution_count": 18,
      "outputs": [
        {
          "output_type": "stream",
          "text": [
            "[[5.2 3.  4.5]\n",
            " [9.1 0.1 0.3]]\n"
          ],
          "name": "stdout"
        }
      ]
    },
    {
      "cell_type": "markdown",
      "metadata": {
        "id": "rxNhWW6avGht"
      },
      "source": [
        "#การชี้ค่าใน numpy array"
      ]
    },
    {
      "cell_type": "code",
      "metadata": {
        "id": "dfj57YFivN9Q",
        "outputId": "89243bdf-c3c9-4b21-efb4-73b0d5339dde",
        "colab": {
          "base_uri": "https://localhost:8080/"
        }
      },
      "source": [
        "ex_2d_array[1,2]"
      ],
      "execution_count": 19,
      "outputs": [
        {
          "output_type": "execute_result",
          "data": {
            "text/plain": [
              "0.3"
            ]
          },
          "metadata": {
            "tags": []
          },
          "execution_count": 19
        }
      ]
    },
    {
      "cell_type": "code",
      "metadata": {
        "id": "a2EKqn5TvuOz",
        "outputId": "6c6ff86d-f3cd-4552-9c53-dad169612a9f",
        "colab": {
          "base_uri": "https://localhost:8080/"
        }
      },
      "source": [
        "list_x = [[5.2,3.0,4.5],[9.1,0.1,0.3]] #การชี้ list\r\n",
        "print(len(list_x))\r\n",
        "\r\n",
        "print(list_x[1])\r\n",
        "print(list_x[1][2])"
      ],
      "execution_count": 25,
      "outputs": [
        {
          "output_type": "stream",
          "text": [
            "2\n",
            "[9.1, 0.1, 0.3]\n",
            "0.3\n"
          ],
          "name": "stdout"
        }
      ]
    },
    {
      "cell_type": "markdown",
      "metadata": {
        "id": "UhZs9LKGyDKK"
      },
      "source": [
        "#Operations"
      ]
    },
    {
      "cell_type": "code",
      "metadata": {
        "id": "TmjeGBityG80",
        "outputId": "c280260d-c501-40a4-81ed-66c60152111f",
        "colab": {
          "base_uri": "https://localhost:8080/"
        }
      },
      "source": [
        "ex2_2d_array = numpy .array([[1,0,0],[0,0,1]])\r\n",
        "print(ex2_2d_array)\r\n",
        "print(ex_2d_array)"
      ],
      "execution_count": 26,
      "outputs": [
        {
          "output_type": "stream",
          "text": [
            "[[1 0 0]\n",
            " [0 0 1]]\n",
            "[[5.2 3.  4.5]\n",
            " [9.1 0.1 0.3]]\n"
          ],
          "name": "stdout"
        }
      ]
    },
    {
      "cell_type": "code",
      "metadata": {
        "id": "P_o8TN9Wyj_J",
        "outputId": "9b534143-044b-474b-cd58-02bc1e5932af",
        "colab": {
          "base_uri": "https://localhost:8080/"
        }
      },
      "source": [
        "ex_2d_array.shape #ตรวจสอบขนาดของ matrix"
      ],
      "execution_count": 27,
      "outputs": [
        {
          "output_type": "execute_result",
          "data": {
            "text/plain": [
              "(2, 3)"
            ]
          },
          "metadata": {
            "tags": []
          },
          "execution_count": 27
        }
      ]
    },
    {
      "cell_type": "code",
      "metadata": {
        "id": "opSnaStIyvUJ",
        "outputId": "57c79754-f269-4831-c70f-05dc9c80ea75",
        "colab": {
          "base_uri": "https://localhost:8080/"
        }
      },
      "source": [
        "ex_2d_array + ex2_2d_array"
      ],
      "execution_count": 28,
      "outputs": [
        {
          "output_type": "execute_result",
          "data": {
            "text/plain": [
              "array([[6.2, 3. , 4.5],\n",
              "       [9.1, 0.1, 1.3]])"
            ]
          },
          "metadata": {
            "tags": []
          },
          "execution_count": 28
        }
      ]
    },
    {
      "cell_type": "code",
      "metadata": {
        "id": "wZcGY79xzWD0",
        "outputId": "f7042478-d7c6-4461-d585-b815ae036f5f",
        "colab": {
          "base_uri": "https://localhost:8080/"
        }
      },
      "source": [
        "list_x = [[5.2,3.0,4.5],[9.1,0.1,0.3]]\r\n",
        "list_x2 = [[1,0,0],[0,0,1]]\r\n",
        "\r\n",
        "list_x + list_x2"
      ],
      "execution_count": 29,
      "outputs": [
        {
          "output_type": "execute_result",
          "data": {
            "text/plain": [
              "[[5.2, 3.0, 4.5], [9.1, 0.1, 0.3], [1, 0, 0], [0, 0, 1]]"
            ]
          },
          "metadata": {
            "tags": []
          },
          "execution_count": 29
        }
      ]
    },
    {
      "cell_type": "code",
      "metadata": {
        "id": "61pHVpySz-f7",
        "outputId": "38adc526-a468-46ee-f9d1-d4bd0ed240c8",
        "colab": {
          "base_uri": "https://localhost:8080/"
        }
      },
      "source": [
        "ex_2d_array - ex2_2d_array"
      ],
      "execution_count": 31,
      "outputs": [
        {
          "output_type": "execute_result",
          "data": {
            "text/plain": [
              "array([[ 4.2,  3. ,  4.5],\n",
              "       [ 9.1,  0.1, -0.7]])"
            ]
          },
          "metadata": {
            "tags": []
          },
          "execution_count": 31
        }
      ]
    },
    {
      "cell_type": "markdown",
      "metadata": {
        "id": "aP67EYCz0lgD"
      },
      "source": [
        ""
      ]
    },
    {
      "cell_type": "code",
      "metadata": {
        "id": "QyzP2vp2zzIS",
        "outputId": "72879a48-6531-479e-ec3c-1673b0c017d7",
        "colab": {
          "base_uri": "https://localhost:8080/"
        }
      },
      "source": [
        "ex_2d_array  * ex2_2d_array #เอาตำแหน่งเดียวมาคูณกัน"
      ],
      "execution_count": 30,
      "outputs": [
        {
          "output_type": "execute_result",
          "data": {
            "text/plain": [
              "array([[5.2, 0. , 0. ],\n",
              "       [0. , 0. , 0.3]])"
            ]
          },
          "metadata": {
            "tags": []
          },
          "execution_count": 30
        }
      ]
    },
    {
      "cell_type": "markdown",
      "metadata": {
        "id": "L7Ylj7DN1bdE"
      },
      "source": [
        "matix multiplication (dot product)"
      ]
    },
    {
      "cell_type": "code",
      "metadata": {
        "id": "fA-DhAzE15By",
        "outputId": "86d91a8e-907e-456c-f326-21e784ce8f54",
        "colab": {
          "base_uri": "https://localhost:8080/"
        }
      },
      "source": [
        "print(ex_2d_array)\r\n",
        "print(ex_2d_array.T)"
      ],
      "execution_count": 32,
      "outputs": [
        {
          "output_type": "stream",
          "text": [
            "[[5.2 3.  4.5]\n",
            " [9.1 0.1 0.3]]\n",
            "[[5.2 9.1]\n",
            " [3.  0.1]\n",
            " [4.5 0.3]]\n"
          ],
          "name": "stdout"
        }
      ]
    },
    {
      "cell_type": "code",
      "metadata": {
        "id": "ZRk3U1mn1XAC",
        "outputId": "da7b2851-10aa-4600-c437-8c3735705192",
        "colab": {
          "base_uri": "https://localhost:8080/"
        }
      },
      "source": [
        "dot_mat = numpy.dot(ex_2d_array,ex2_2d_array.T)\r\n",
        "print(dot_mat)"
      ],
      "execution_count": 35,
      "outputs": [
        {
          "output_type": "stream",
          "text": [
            "[[5.2 4.5]\n",
            " [9.1 0.3]]\n"
          ],
          "name": "stdout"
        }
      ]
    },
    {
      "cell_type": "code",
      "metadata": {
        "id": "-JhhHnF026N_",
        "outputId": "fca4f2cd-5c2a-47b8-afb9-a7b5a5f5a971",
        "colab": {
          "base_uri": "https://localhost:8080/"
        }
      },
      "source": [
        "numpy.linalg.det(dot_mat)"
      ],
      "execution_count": 36,
      "outputs": [
        {
          "output_type": "execute_result",
          "data": {
            "text/plain": [
              "-39.389999999999986"
            ]
          },
          "metadata": {
            "tags": []
          },
          "execution_count": 36
        }
      ]
    },
    {
      "cell_type": "markdown",
      "metadata": {
        "id": "PkjkqoFY3xmH"
      },
      "source": [
        "search google -> stackoverflow หรือ web ของ  package สำหรับ operation อื่นๆ"
      ]
    },
    {
      "cell_type": "markdown",
      "metadata": {
        "id": "a6yV4-0p4LNG"
      },
      "source": [
        "###matrix slicing"
      ]
    },
    {
      "cell_type": "code",
      "metadata": {
        "id": "HJeyxbiz5aS6",
        "outputId": "498a25dd-2db0-4d4a-c901-781d45a1d301",
        "colab": {
          "base_uri": "https://localhost:8080/"
        }
      },
      "source": [
        "print(ex_2d_array)\r\n"
      ],
      "execution_count": 37,
      "outputs": [
        {
          "output_type": "stream",
          "text": [
            "[[5.2 3.  4.5]\n",
            " [9.1 0.1 0.3]]\n"
          ],
          "name": "stdout"
        }
      ]
    },
    {
      "cell_type": "code",
      "metadata": {
        "id": "b_4Yk5fl5nLf",
        "outputId": "599a5220-3b04-4695-c556-fb233dcc09af",
        "colab": {
          "base_uri": "https://localhost:8080/"
        }
      },
      "source": [
        "\r\n",
        "ex_2d_array[1,1:]"
      ],
      "execution_count": 38,
      "outputs": [
        {
          "output_type": "execute_result",
          "data": {
            "text/plain": [
              "array([0.1, 0.3])"
            ]
          },
          "metadata": {
            "tags": []
          },
          "execution_count": 38
        }
      ]
    },
    {
      "cell_type": "code",
      "metadata": {
        "id": "gERjo7gw57Wx",
        "outputId": "bf365dee-ef18-4fe4-a049-bf5ecb2a96f1",
        "colab": {
          "base_uri": "https://localhost:8080/"
        }
      },
      "source": [
        "ex_2d_array[:,:2]"
      ],
      "execution_count": 39,
      "outputs": [
        {
          "output_type": "execute_result",
          "data": {
            "text/plain": [
              "array([[5.2, 3. ],\n",
              "       [9.1, 0.1]])"
            ]
          },
          "metadata": {
            "tags": []
          },
          "execution_count": 39
        }
      ]
    },
    {
      "cell_type": "markdown",
      "metadata": {
        "id": "EPevx37N5Ru5"
      },
      "source": [
        "##random,ones,zeros "
      ]
    },
    {
      "cell_type": "markdown",
      "metadata": {
        "id": "scpLoRH84eVc"
      },
      "source": [
        "HW 5 เขียน function คูณ matrix\r\n",
        "\r\n",
        "แล้ว test  กับ matrix\r\n",
        "\r\n",
        "-(2,3)*(3,2)\r\n",
        "-(4,4)*(4,1)\r\n",
        "-(2,2)*(2,2)"
      ]
    }
  ]
}