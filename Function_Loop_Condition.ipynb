{
  "nbformat": 4,
  "nbformat_minor": 0,
  "metadata": {
    "colab": {
      "name": "Untitled11.ipynb",
      "provenance": [],
      "authorship_tag": "ABX9TyPtPe9QJtIh0zCtLoZ2mpR6",
      "include_colab_link": true
    },
    "kernelspec": {
      "name": "python3",
      "display_name": "Python 3"
    }
  },
  "cells": [
    {
      "cell_type": "markdown",
      "metadata": {
        "id": "view-in-github",
        "colab_type": "text"
      },
      "source": [
        "<a href=\"https://colab.research.google.com/github/jirachaya-bam/Data_viz/blob/main/Function_Loop_Condition.ipynb\" target=\"_parent\"><img src=\"https://colab.research.google.com/assets/colab-badge.svg\" alt=\"Open In Colab\"/></a>"
      ]
    },
    {
      "cell_type": "code",
      "metadata": {
        "colab": {
          "base_uri": "https://localhost:8080/"
        },
        "id": "17XkolxBnVwx",
        "outputId": "e9d7f368-cac3-4f1e-f067-7f7f1123e2b2"
      },
      "source": [
        "name = 'จิรัชญา'\n",
        "surname = 'ฟองฟูม'\n",
        "ID = '613020038-0'\n",
        "\n",
        "b= f'ชื่อ {name} นามสกุล {surname} รหัส {ID}'\n",
        "print(b)"
      ],
      "execution_count": null,
      "outputs": [
        {
          "output_type": "stream",
          "text": [
            "ชื่อ จิรัชญา นามสกุล ฟองฟูม รหัส 613020038-0\n"
          ],
          "name": "stdout"
        }
      ]
    },
    {
      "cell_type": "markdown",
      "metadata": {
        "id": "QxUuq84aoGfo"
      },
      "source": [
        "Function"
      ]
    },
    {
      "cell_type": "markdown",
      "metadata": {
        "id": "Em1P-VQtoI7i"
      },
      "source": [
        "ทำหน้าที่รับ input มาประมวลผลออกเป็น output\n",
        "\n",
        "f(x) = y โดยที่ x คือ input\n",
        "\n",
        "y คือ output"
      ]
    },
    {
      "cell_type": "markdown",
      "metadata": {
        "id": "7cEqtrGWop9r"
      },
      "source": [
        "def คือ การกำหนดฟังก์ชัน"
      ]
    },
    {
      "cell_type": "code",
      "metadata": {
        "colab": {
          "base_uri": "https://localhost:8080/",
          "height": 135
        },
        "id": "cHy9sC4AovNB",
        "outputId": "870a3d7f-6fb8-4fc6-b170-779398cd6d47"
      },
      "source": [
        "def function_name(_Input_) :\n",
        "  do_something with _Input_ to get _Output_\n",
        "  return _Output_"
      ],
      "execution_count": null,
      "outputs": [
        {
          "output_type": "error",
          "ename": "SyntaxError",
          "evalue": "ignored",
          "traceback": [
            "\u001b[0;36m  File \u001b[0;32m\"<ipython-input-37-e3e6c36a99b7>\"\u001b[0;36m, line \u001b[0;32m2\u001b[0m\n\u001b[0;31m    do_something with _Input_ to get _Output_\u001b[0m\n\u001b[0m                    ^\u001b[0m\n\u001b[0;31mSyntaxError\u001b[0m\u001b[0;31m:\u001b[0m invalid syntax\n"
          ]
        }
      ]
    },
    {
      "cell_type": "markdown",
      "metadata": {
        "id": "pNb0Ou_HpSSV"
      },
      "source": [
        "backtick(`)==>กด ~ ค้าง,alt-9>6(full keyboard with number) \n",
        "\n",
        "tilde (~)\n",
        "\n",
        "curly brackey ({})\n",
        "\n",
        "square bracket ([])\n"
      ]
    },
    {
      "cell_type": "markdown",
      "metadata": {
        "id": "zv-rGDFtqiQF"
      },
      "source": [
        "function มีส่วนสำคัญ 4 ส่วน\n",
        "\n",
        "  1.บอก python ว่าเราจะเขียนฟังก์ชั่น ชื่ออะไร def funtion_name():(ขาดไม่ได้)\n",
        "\n",
        "  2.กำหนดตัวแปรที่จะเป็น input *Input* (ขาดไม่ได้)\n",
        "\n",
        "  3.ส่วนประมวลผล do_something with *Input* to get Output(ขาดไม่ได้)\n",
        "\n",
        "  4.ส่วน output return *Output*(ขาดได้)"
      ]
    },
    {
      "cell_type": "markdown",
      "metadata": {
        "id": "5ynx7j_hrrZ6"
      },
      "source": [
        "ตัวอย่างการเขียน normal function"
      ]
    },
    {
      "cell_type": "code",
      "metadata": {
        "id": "MqS7Pym_ryaW"
      },
      "source": [
        "def print_name(name,surname,ID) :\n",
        "  sr = f'ชื่อ {name} นามสกุล {surname} รหัส {ID}'\n",
        "  return st"
      ],
      "execution_count": null,
      "outputs": []
    },
    {
      "cell_type": "code",
      "metadata": {
        "colab": {
          "base_uri": "https://localhost:8080/",
          "height": 261
        },
        "id": "L_hLLggusLab",
        "outputId": "3fdeb765-9da4-4cbc-82bb-188952bdd60f"
      },
      "source": [
        "print_name('ฟองฟูม','6130200380','จิรัชญา' )"
      ],
      "execution_count": null,
      "outputs": [
        {
          "output_type": "error",
          "ename": "NameError",
          "evalue": "ignored",
          "traceback": [
            "\u001b[0;31m---------------------------------------------------------------------------\u001b[0m",
            "\u001b[0;31mNameError\u001b[0m                                 Traceback (most recent call last)",
            "\u001b[0;32m<ipython-input-15-d368c1380c88>\u001b[0m in \u001b[0;36m<module>\u001b[0;34m()\u001b[0m\n\u001b[0;32m----> 1\u001b[0;31m \u001b[0mprint_name\u001b[0m\u001b[0;34m(\u001b[0m\u001b[0;34m'ฟองฟูม'\u001b[0m\u001b[0;34m,\u001b[0m\u001b[0;34m'6130200380'\u001b[0m\u001b[0;34m,\u001b[0m\u001b[0;34m'จิรัชญา'\u001b[0m \u001b[0;34m)\u001b[0m\u001b[0;34m\u001b[0m\u001b[0;34m\u001b[0m\u001b[0m\n\u001b[0m",
            "\u001b[0;32m<ipython-input-14-aec4ae66969b>\u001b[0m in \u001b[0;36mprint_name\u001b[0;34m(surname, ID, name)\u001b[0m\n\u001b[1;32m      1\u001b[0m \u001b[0;32mdef\u001b[0m \u001b[0mprint_name\u001b[0m\u001b[0;34m(\u001b[0m\u001b[0msurname\u001b[0m\u001b[0;34m,\u001b[0m\u001b[0mID\u001b[0m\u001b[0;34m,\u001b[0m\u001b[0mname\u001b[0m\u001b[0;34m)\u001b[0m \u001b[0;34m:\u001b[0m\u001b[0;34m\u001b[0m\u001b[0;34m\u001b[0m\u001b[0m\n\u001b[1;32m      2\u001b[0m   \u001b[0msr\u001b[0m \u001b[0;34m=\u001b[0m \u001b[0;34mf'ชื่อ {name} นามสกุล {surname} รหัส {ID}'\u001b[0m\u001b[0;34m\u001b[0m\u001b[0;34m\u001b[0m\u001b[0m\n\u001b[0;32m----> 3\u001b[0;31m   \u001b[0;32mreturn\u001b[0m \u001b[0mst\u001b[0m\u001b[0;34m\u001b[0m\u001b[0;34m\u001b[0m\u001b[0m\n\u001b[0m",
            "\u001b[0;31mNameError\u001b[0m: name 'st' is not defined"
          ]
        }
      ]
    },
    {
      "cell_type": "code",
      "metadata": {
        "colab": {
          "base_uri": "https://localhost:8080/",
          "height": 261
        },
        "id": "m-iKZlPIspur",
        "outputId": "ff322a76-2a53-4c1f-e437-ffa29f92d1fd"
      },
      "source": [
        "print(print_name(name='จิรัชญา',surname='ฟองฟูม',ID='6130200380'))"
      ],
      "execution_count": null,
      "outputs": [
        {
          "output_type": "error",
          "ename": "NameError",
          "evalue": "ignored",
          "traceback": [
            "\u001b[0;31m---------------------------------------------------------------------------\u001b[0m",
            "\u001b[0;31mNameError\u001b[0m                                 Traceback (most recent call last)",
            "\u001b[0;32m<ipython-input-17-a187d51539ba>\u001b[0m in \u001b[0;36m<module>\u001b[0;34m()\u001b[0m\n\u001b[0;32m----> 1\u001b[0;31m \u001b[0mprint\u001b[0m\u001b[0;34m(\u001b[0m\u001b[0mprint_name\u001b[0m\u001b[0;34m(\u001b[0m\u001b[0mname\u001b[0m\u001b[0;34m=\u001b[0m\u001b[0;34m'จิรัชญา'\u001b[0m\u001b[0;34m,\u001b[0m\u001b[0msurname\u001b[0m\u001b[0;34m=\u001b[0m\u001b[0;34m'ฟองฟูม'\u001b[0m\u001b[0;34m,\u001b[0m\u001b[0mID\u001b[0m\u001b[0;34m=\u001b[0m\u001b[0;34m'6130200380'\u001b[0m\u001b[0;34m)\u001b[0m\u001b[0;34m)\u001b[0m\u001b[0;34m\u001b[0m\u001b[0;34m\u001b[0m\u001b[0m\n\u001b[0m",
            "\u001b[0;32m<ipython-input-14-aec4ae66969b>\u001b[0m in \u001b[0;36mprint_name\u001b[0;34m(surname, ID, name)\u001b[0m\n\u001b[1;32m      1\u001b[0m \u001b[0;32mdef\u001b[0m \u001b[0mprint_name\u001b[0m\u001b[0;34m(\u001b[0m\u001b[0msurname\u001b[0m\u001b[0;34m,\u001b[0m\u001b[0mID\u001b[0m\u001b[0;34m,\u001b[0m\u001b[0mname\u001b[0m\u001b[0;34m)\u001b[0m \u001b[0;34m:\u001b[0m\u001b[0;34m\u001b[0m\u001b[0;34m\u001b[0m\u001b[0m\n\u001b[1;32m      2\u001b[0m   \u001b[0msr\u001b[0m \u001b[0;34m=\u001b[0m \u001b[0;34mf'ชื่อ {name} นามสกุล {surname} รหัส {ID}'\u001b[0m\u001b[0;34m\u001b[0m\u001b[0;34m\u001b[0m\u001b[0m\n\u001b[0;32m----> 3\u001b[0;31m   \u001b[0;32mreturn\u001b[0m \u001b[0mst\u001b[0m\u001b[0;34m\u001b[0m\u001b[0;34m\u001b[0m\u001b[0m\n\u001b[0m",
            "\u001b[0;31mNameError\u001b[0m: name 'st' is not defined"
          ]
        }
      ]
    },
    {
      "cell_type": "markdown",
      "metadata": {
        "id": "hFZfIRrUt0Ky"
      },
      "source": [
        "ใช้ เว้นวรรค (indent) เพื่อบอกขอบเขตของโปรแกรม\n",
        "\n",
        "\n",
        "\n",
        "สามารถเพิ่มคำสั่งเข้าไปในฟังก์ชันได้อีก โดยการเปลี่ยนคำสั่ง return เป็นprint()เช่น ตัวอย่างดังี้ ได้ทำการเพิ่ม st2 ="
      ]
    },
    {
      "cell_type": "code",
      "metadata": {
        "id": "GiYWlx1uuUbR"
      },
      "source": [
        "def print_name2(name,surname,ID) :\n",
        "     st2 = f'ชื่อ {name} นามสกุล {surname} รหัส {ID}'\n",
        "     print(st2)"
      ],
      "execution_count": null,
      "outputs": []
    },
    {
      "cell_type": "code",
      "metadata": {
        "colab": {
          "base_uri": "https://localhost:8080/"
        },
        "id": "0S-q-5UDuz2p",
        "outputId": "26070214-b48b-4491-dc03-c87623c2d5c3"
      },
      "source": [
        "print_name2(name='จิรัชญา',surname='ฟองฟูม',ID=6130200380)"
      ],
      "execution_count": null,
      "outputs": [
        {
          "output_type": "stream",
          "text": [
            "ชื่อ จิรัชญา นามสกุล ฟองฟูม รหัส 6130200380\n"
          ],
          "name": "stdout"
        }
      ]
    },
    {
      "cell_type": "markdown",
      "metadata": {
        "id": "Mq5eNEQNvdSY"
      },
      "source": [
        "ในฟังก์ชันไม่จำเป็นต้องมี Input\n"
      ]
    },
    {
      "cell_type": "code",
      "metadata": {
        "id": "cm-EwBulvj7Z"
      },
      "source": [
        "def Pi() :\n",
        "     return 3.14159265359"
      ],
      "execution_count": null,
      "outputs": []
    },
    {
      "cell_type": "markdown",
      "metadata": {
        "id": "7IeGT-Unv7mp"
      },
      "source": [
        "สามารถกำหนดค่า default ให้กับฟังก์ชันได้\n",
        "\n",
        "input ของ function ใน python มีสองแบบ input ที่จำเป็นต้องใส่ กับ input ที่ไม่จำเป็นต้องใส่ (มีค่า default) เราต้องเรียง input ที่จำเป็นต้องใส่ขึ้นก่อน"
      ]
    },
    {
      "cell_type": "code",
      "metadata": {
        "id": "vgiCb4Vcwh0M"
      },
      "source": [
        "def print_2lines_default(name,surname,ID,grade='A') :\n",
        "  st = f'ชื่อ {name} นามสกุล {surname} รหัส {ID}'\n",
        "  print (st)\n",
        "  st2=f'เกรดวิชา Data Viz >>> {grade}'\n",
        "  print(st2)"
      ],
      "execution_count": null,
      "outputs": []
    },
    {
      "cell_type": "code",
      "metadata": {
        "colab": {
          "base_uri": "https://localhost:8080/"
        },
        "id": "u8EnR4rYxa8E",
        "outputId": "9636a9b7-a917-4432-f28d-d2f38276b81b"
      },
      "source": [
        "print_2lines_default('จิรัชญา','ฟองฟูม','6130200380')"
      ],
      "execution_count": null,
      "outputs": [
        {
          "output_type": "stream",
          "text": [
            "ชื่อ จิรัชญา นามสกุล ฟองฟูม รหัส 6130200380\n",
            "เกรดวิชา Data Viz >>> A\n"
          ],
          "name": "stdout"
        }
      ]
    },
    {
      "cell_type": "markdown",
      "metadata": {
        "id": "rceN4ao-yq_o"
      },
      "source": [
        "LOOP คือ การวนซ้ำ\n",
        "\n",
        "\n",
        "for เป็นคำที่ใช้บอก python ว่ากำลังเขียน loop โดย for จะวนดึงสมาชิกจาก listA มาทำ process do_something"
      ]
    },
    {
      "cell_type": "code",
      "metadata": {
        "colab": {
          "base_uri": "https://localhost:8080/",
          "height": 189
        },
        "id": "8yInNp6UzXar",
        "outputId": "18f091a5-ad2a-4d4d-abb7-180def1057a9"
      },
      "source": [
        "for each_member in listA :\n",
        "        do_something"
      ],
      "execution_count": null,
      "outputs": [
        {
          "output_type": "error",
          "ename": "NameError",
          "evalue": "ignored",
          "traceback": [
            "\u001b[0;31m---------------------------------------------------------------------------\u001b[0m",
            "\u001b[0;31mNameError\u001b[0m                                 Traceback (most recent call last)",
            "\u001b[0;32m<ipython-input-29-83a200a1d19d>\u001b[0m in \u001b[0;36m<module>\u001b[0;34m()\u001b[0m\n\u001b[0;32m----> 1\u001b[0;31m \u001b[0;32mfor\u001b[0m \u001b[0meach_member\u001b[0m \u001b[0;32min\u001b[0m \u001b[0mlistA\u001b[0m \u001b[0;34m:\u001b[0m\u001b[0;34m\u001b[0m\u001b[0;34m\u001b[0m\u001b[0m\n\u001b[0m\u001b[1;32m      2\u001b[0m         \u001b[0mdo_something\u001b[0m\u001b[0;34m\u001b[0m\u001b[0;34m\u001b[0m\u001b[0m\n",
            "\u001b[0;31mNameError\u001b[0m: name 'listA' is not defined"
          ]
        }
      ]
    },
    {
      "cell_type": "markdown",
      "metadata": {
        "id": "RMknCugiznVK"
      },
      "source": [
        "คำสั่ง for เป็นคำสั่งวนซ้ำที่ใช้ควบคุมการทำงานซ้ำๆในจำนวนรอบที่แน่นอน"
      ]
    },
    {
      "cell_type": "code",
      "metadata": {
        "colab": {
          "base_uri": "https://localhost:8080/"
        },
        "id": "5y5uOOn3zyw3",
        "outputId": "6611565b-f78d-46e5-fef8-6a733ec58a61"
      },
      "source": [
        "for i in [1,2,3] :\n",
        "    o = i**2\n",
        "    print (f'this member = {i} after process = {0}')\n",
        "    "
      ],
      "execution_count": null,
      "outputs": [
        {
          "output_type": "stream",
          "text": [
            "this member = 1 after process = 0\n",
            "this member = 2 after process = 0\n",
            "this member = 3 after process = 0\n"
          ],
          "name": "stdout"
        }
      ]
    }
  ]
}