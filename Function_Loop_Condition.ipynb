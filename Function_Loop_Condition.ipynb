{
  "nbformat": 4,
  "nbformat_minor": 0,
  "metadata": {
    "colab": {
      "name": "Untitled11.ipynb",
      "provenance": [],
      "authorship_tag": "ABX9TyPQTPGIDzhx67pgg4IC7VEl",
      "include_colab_link": true
    },
    "kernelspec": {
      "name": "python3",
      "display_name": "Python 3"
    }
  },
  "cells": [
    {
      "cell_type": "markdown",
      "metadata": {
        "id": "view-in-github",
        "colab_type": "text"
      },
      "source": [
        "<a href=\"https://colab.research.google.com/github/jirachaya-bam/Data_viz/blob/main/Function_Loop_Condition.ipynb\" target=\"_parent\"><img src=\"https://colab.research.google.com/assets/colab-badge.svg\" alt=\"Open In Colab\"/></a>"
      ]
    },
    {
      "cell_type": "code",
      "metadata": {
        "colab": {
          "base_uri": "https://localhost:8080/"
        },
        "id": "17XkolxBnVwx",
        "outputId": "e9d7f368-cac3-4f1e-f067-7f7f1123e2b2"
      },
      "source": [
        "name = 'จิรัชญา'\n",
        "surname = 'ฟองฟูม'\n",
        "ID = '613020038-0'\n",
        "\n",
        "b= f'ชื่อ {name} นามสกุล {surname} รหัส {ID}'\n",
        "print(b)"
      ],
      "execution_count": null,
      "outputs": [
        {
          "output_type": "stream",
          "text": [
            "ชื่อ จิรัชญา นามสกุล ฟองฟูม รหัส 613020038-0\n"
          ],
          "name": "stdout"
        }
      ]
    },
    {
      "cell_type": "markdown",
      "metadata": {
        "id": "N1pjoFvkVPMm"
      },
      "source": [
        ""
      ]
    },
    {
      "cell_type": "markdown",
      "metadata": {
        "id": "QxUuq84aoGfo"
      },
      "source": [
        "Function"
      ]
    },
    {
      "cell_type": "markdown",
      "metadata": {
        "id": "Em1P-VQtoI7i"
      },
      "source": [
        "ทำหน้าที่รับ input มาประมวลผลออกเป็น output\n",
        "\n",
        "f(x) = y โดยที่ x คือ input\n",
        "\n",
        "y คือ output"
      ]
    },
    {
      "cell_type": "markdown",
      "metadata": {
        "id": "7cEqtrGWop9r"
      },
      "source": [
        "def คือ การกำหนดฟังก์ชัน"
      ]
    },
    {
      "cell_type": "code",
      "metadata": {
        "colab": {
          "base_uri": "https://localhost:8080/",
          "height": 135
        },
        "id": "cHy9sC4AovNB",
        "outputId": "870a3d7f-6fb8-4fc6-b170-779398cd6d47"
      },
      "source": [
        "def function_name(_Input_) :\n",
        "  do_something with _Input_ to get _Output_\n",
        "  return _Output_"
      ],
      "execution_count": null,
      "outputs": [
        {
          "output_type": "error",
          "ename": "SyntaxError",
          "evalue": "ignored",
          "traceback": [
            "\u001b[0;36m  File \u001b[0;32m\"<ipython-input-37-e3e6c36a99b7>\"\u001b[0;36m, line \u001b[0;32m2\u001b[0m\n\u001b[0;31m    do_something with _Input_ to get _Output_\u001b[0m\n\u001b[0m                    ^\u001b[0m\n\u001b[0;31mSyntaxError\u001b[0m\u001b[0;31m:\u001b[0m invalid syntax\n"
          ]
        }
      ]
    },
    {
      "cell_type": "markdown",
      "metadata": {
        "id": "pNb0Ou_HpSSV"
      },
      "source": [
        "backtick(`)==>กด ~ ค้าง,alt-9>6(full keyboard with number) \n",
        "\n",
        "tilde (~)\n",
        "\n",
        "curly brackey ({})\n",
        "\n",
        "square bracket ([])\n"
      ]
    },
    {
      "cell_type": "markdown",
      "metadata": {
        "id": "zv-rGDFtqiQF"
      },
      "source": [
        "function มีส่วนสำคัญ 4 ส่วน\n",
        "\n",
        "  1.บอก python ว่าเราจะเขียนฟังก์ชั่น ชื่ออะไร def funtion_name():(ขาดไม่ได้)\n",
        "\n",
        "  2.กำหนดตัวแปรที่จะเป็น input *Input* (ขาดไม่ได้)\n",
        "\n",
        "  3.ส่วนประมวลผล do_something with *Input* to get Output(ขาดไม่ได้)\n",
        "\n",
        "  4.ส่วน output return *Output*(ขาดได้)"
      ]
    },
    {
      "cell_type": "markdown",
      "metadata": {
        "id": "5ynx7j_hrrZ6"
      },
      "source": [
        "ตัวอย่างการเขียน normal function"
      ]
    },
    {
      "cell_type": "code",
      "metadata": {
        "id": "MqS7Pym_ryaW"
      },
      "source": [
        "def print_name(name,surname,ID) :\n",
        "  sr = f'ชื่อ {name} นามสกุล {surname} รหัส {ID}'\n",
        "  return st"
      ],
      "execution_count": null,
      "outputs": []
    },
    {
      "cell_type": "code",
      "metadata": {
        "colab": {
          "base_uri": "https://localhost:8080/",
          "height": 261
        },
        "id": "L_hLLggusLab",
        "outputId": "3fdeb765-9da4-4cbc-82bb-188952bdd60f"
      },
      "source": [
        "print_name('ฟองฟูม','6130200380','จิรัชญา' )"
      ],
      "execution_count": null,
      "outputs": [
        {
          "output_type": "error",
          "ename": "NameError",
          "evalue": "ignored",
          "traceback": [
            "\u001b[0;31m---------------------------------------------------------------------------\u001b[0m",
            "\u001b[0;31mNameError\u001b[0m                                 Traceback (most recent call last)",
            "\u001b[0;32m<ipython-input-15-d368c1380c88>\u001b[0m in \u001b[0;36m<module>\u001b[0;34m()\u001b[0m\n\u001b[0;32m----> 1\u001b[0;31m \u001b[0mprint_name\u001b[0m\u001b[0;34m(\u001b[0m\u001b[0;34m'ฟองฟูม'\u001b[0m\u001b[0;34m,\u001b[0m\u001b[0;34m'6130200380'\u001b[0m\u001b[0;34m,\u001b[0m\u001b[0;34m'จิรัชญา'\u001b[0m \u001b[0;34m)\u001b[0m\u001b[0;34m\u001b[0m\u001b[0;34m\u001b[0m\u001b[0m\n\u001b[0m",
            "\u001b[0;32m<ipython-input-14-aec4ae66969b>\u001b[0m in \u001b[0;36mprint_name\u001b[0;34m(surname, ID, name)\u001b[0m\n\u001b[1;32m      1\u001b[0m \u001b[0;32mdef\u001b[0m \u001b[0mprint_name\u001b[0m\u001b[0;34m(\u001b[0m\u001b[0msurname\u001b[0m\u001b[0;34m,\u001b[0m\u001b[0mID\u001b[0m\u001b[0;34m,\u001b[0m\u001b[0mname\u001b[0m\u001b[0;34m)\u001b[0m \u001b[0;34m:\u001b[0m\u001b[0;34m\u001b[0m\u001b[0;34m\u001b[0m\u001b[0m\n\u001b[1;32m      2\u001b[0m   \u001b[0msr\u001b[0m \u001b[0;34m=\u001b[0m \u001b[0;34mf'ชื่อ {name} นามสกุล {surname} รหัส {ID}'\u001b[0m\u001b[0;34m\u001b[0m\u001b[0;34m\u001b[0m\u001b[0m\n\u001b[0;32m----> 3\u001b[0;31m   \u001b[0;32mreturn\u001b[0m \u001b[0mst\u001b[0m\u001b[0;34m\u001b[0m\u001b[0;34m\u001b[0m\u001b[0m\n\u001b[0m",
            "\u001b[0;31mNameError\u001b[0m: name 'st' is not defined"
          ]
        }
      ]
    },
    {
      "cell_type": "code",
      "metadata": {
        "colab": {
          "base_uri": "https://localhost:8080/",
          "height": 261
        },
        "id": "m-iKZlPIspur",
        "outputId": "ff322a76-2a53-4c1f-e437-ffa29f92d1fd"
      },
      "source": [
        "print(print_name(name='จิรัชญา',surname='ฟองฟูม',ID='6130200380'))"
      ],
      "execution_count": null,
      "outputs": [
        {
          "output_type": "error",
          "ename": "NameError",
          "evalue": "ignored",
          "traceback": [
            "\u001b[0;31m---------------------------------------------------------------------------\u001b[0m",
            "\u001b[0;31mNameError\u001b[0m                                 Traceback (most recent call last)",
            "\u001b[0;32m<ipython-input-17-a187d51539ba>\u001b[0m in \u001b[0;36m<module>\u001b[0;34m()\u001b[0m\n\u001b[0;32m----> 1\u001b[0;31m \u001b[0mprint\u001b[0m\u001b[0;34m(\u001b[0m\u001b[0mprint_name\u001b[0m\u001b[0;34m(\u001b[0m\u001b[0mname\u001b[0m\u001b[0;34m=\u001b[0m\u001b[0;34m'จิรัชญา'\u001b[0m\u001b[0;34m,\u001b[0m\u001b[0msurname\u001b[0m\u001b[0;34m=\u001b[0m\u001b[0;34m'ฟองฟูม'\u001b[0m\u001b[0;34m,\u001b[0m\u001b[0mID\u001b[0m\u001b[0;34m=\u001b[0m\u001b[0;34m'6130200380'\u001b[0m\u001b[0;34m)\u001b[0m\u001b[0;34m)\u001b[0m\u001b[0;34m\u001b[0m\u001b[0;34m\u001b[0m\u001b[0m\n\u001b[0m",
            "\u001b[0;32m<ipython-input-14-aec4ae66969b>\u001b[0m in \u001b[0;36mprint_name\u001b[0;34m(surname, ID, name)\u001b[0m\n\u001b[1;32m      1\u001b[0m \u001b[0;32mdef\u001b[0m \u001b[0mprint_name\u001b[0m\u001b[0;34m(\u001b[0m\u001b[0msurname\u001b[0m\u001b[0;34m,\u001b[0m\u001b[0mID\u001b[0m\u001b[0;34m,\u001b[0m\u001b[0mname\u001b[0m\u001b[0;34m)\u001b[0m \u001b[0;34m:\u001b[0m\u001b[0;34m\u001b[0m\u001b[0;34m\u001b[0m\u001b[0m\n\u001b[1;32m      2\u001b[0m   \u001b[0msr\u001b[0m \u001b[0;34m=\u001b[0m \u001b[0;34mf'ชื่อ {name} นามสกุล {surname} รหัส {ID}'\u001b[0m\u001b[0;34m\u001b[0m\u001b[0;34m\u001b[0m\u001b[0m\n\u001b[0;32m----> 3\u001b[0;31m   \u001b[0;32mreturn\u001b[0m \u001b[0mst\u001b[0m\u001b[0;34m\u001b[0m\u001b[0;34m\u001b[0m\u001b[0m\n\u001b[0m",
            "\u001b[0;31mNameError\u001b[0m: name 'st' is not defined"
          ]
        }
      ]
    },
    {
      "cell_type": "markdown",
      "metadata": {
        "id": "hFZfIRrUt0Ky"
      },
      "source": [
        "ใช้ เว้นวรรค (indent) เพื่อบอกขอบเขตของโปรแกรม\n",
        "\n",
        "\n",
        "\n",
        "สามารถเพิ่มคำสั่งเข้าไปในฟังก์ชันได้อีก โดยการเปลี่ยนคำสั่ง return เป็นprint()เช่น ตัวอย่างดังี้ ได้ทำการเพิ่ม st2 ="
      ]
    },
    {
      "cell_type": "code",
      "metadata": {
        "id": "GiYWlx1uuUbR"
      },
      "source": [
        "def print_name2(name,surname,ID) :\n",
        "     st2 = f'ชื่อ {name} นามสกุล {surname} รหัส {ID}'\n",
        "     print(st2)"
      ],
      "execution_count": null,
      "outputs": []
    },
    {
      "cell_type": "code",
      "metadata": {
        "colab": {
          "base_uri": "https://localhost:8080/"
        },
        "id": "0S-q-5UDuz2p",
        "outputId": "26070214-b48b-4491-dc03-c87623c2d5c3"
      },
      "source": [
        "print_name2(name='จิรัชญา',surname='ฟองฟูม',ID=6130200380)"
      ],
      "execution_count": null,
      "outputs": [
        {
          "output_type": "stream",
          "text": [
            "ชื่อ จิรัชญา นามสกุล ฟองฟูม รหัส 6130200380\n"
          ],
          "name": "stdout"
        }
      ]
    },
    {
      "cell_type": "markdown",
      "metadata": {
        "id": "Mq5eNEQNvdSY"
      },
      "source": [
        "ในฟังก์ชันไม่จำเป็นต้องมี Input\n"
      ]
    },
    {
      "cell_type": "code",
      "metadata": {
        "id": "cm-EwBulvj7Z"
      },
      "source": [
        "def Pi() :\n",
        "     return 3.14159265359"
      ],
      "execution_count": null,
      "outputs": []
    },
    {
      "cell_type": "markdown",
      "metadata": {
        "id": "7IeGT-Unv7mp"
      },
      "source": [
        "สามารถกำหนดค่า default ให้กับฟังก์ชันได้\n",
        "\n",
        "input ของ function ใน python มีสองแบบ input ที่จำเป็นต้องใส่ กับ input ที่ไม่จำเป็นต้องใส่ (มีค่า default) เราต้องเรียง input ที่จำเป็นต้องใส่ขึ้นก่อน"
      ]
    },
    {
      "cell_type": "code",
      "metadata": {
        "id": "vgiCb4Vcwh0M"
      },
      "source": [
        "def print_2lines_default(name,surname,ID,grade='A') :\n",
        "  st = f'ชื่อ {name} นามสกุล {surname} รหัส {ID}'\n",
        "  print (st)\n",
        "  st2=f'เกรดวิชา Data Viz >>> {grade}'\n",
        "  print(st2)"
      ],
      "execution_count": null,
      "outputs": []
    },
    {
      "cell_type": "code",
      "metadata": {
        "colab": {
          "base_uri": "https://localhost:8080/"
        },
        "id": "u8EnR4rYxa8E",
        "outputId": "9636a9b7-a917-4432-f28d-d2f38276b81b"
      },
      "source": [
        "print_2lines_default('จิรัชญา','ฟองฟูม','6130200380')"
      ],
      "execution_count": null,
      "outputs": [
        {
          "output_type": "stream",
          "text": [
            "ชื่อ จิรัชญา นามสกุล ฟองฟูม รหัส 6130200380\n",
            "เกรดวิชา Data Viz >>> A\n"
          ],
          "name": "stdout"
        }
      ]
    },
    {
      "cell_type": "markdown",
      "metadata": {
        "id": "rceN4ao-yq_o"
      },
      "source": [
        "LOOP คือ การวนซ้ำ\n",
        "\n",
        "\n",
        "for เป็นคำที่ใช้บอก python ว่ากำลังเขียน loop โดย for จะวนดึงสมาชิกจาก listA มาทำ process do_something"
      ]
    },
    {
      "cell_type": "code",
      "metadata": {
        "colab": {
          "base_uri": "https://localhost:8080/",
          "height": 189
        },
        "id": "8yInNp6UzXar",
        "outputId": "18f091a5-ad2a-4d4d-abb7-180def1057a9"
      },
      "source": [
        "for each_member in listA :\n",
        "        do_something"
      ],
      "execution_count": null,
      "outputs": [
        {
          "output_type": "error",
          "ename": "NameError",
          "evalue": "ignored",
          "traceback": [
            "\u001b[0;31m---------------------------------------------------------------------------\u001b[0m",
            "\u001b[0;31mNameError\u001b[0m                                 Traceback (most recent call last)",
            "\u001b[0;32m<ipython-input-29-83a200a1d19d>\u001b[0m in \u001b[0;36m<module>\u001b[0;34m()\u001b[0m\n\u001b[0;32m----> 1\u001b[0;31m \u001b[0;32mfor\u001b[0m \u001b[0meach_member\u001b[0m \u001b[0;32min\u001b[0m \u001b[0mlistA\u001b[0m \u001b[0;34m:\u001b[0m\u001b[0;34m\u001b[0m\u001b[0;34m\u001b[0m\u001b[0m\n\u001b[0m\u001b[1;32m      2\u001b[0m         \u001b[0mdo_something\u001b[0m\u001b[0;34m\u001b[0m\u001b[0;34m\u001b[0m\u001b[0m\n",
            "\u001b[0;31mNameError\u001b[0m: name 'listA' is not defined"
          ]
        }
      ]
    },
    {
      "cell_type": "markdown",
      "metadata": {
        "id": "RMknCugiznVK"
      },
      "source": [
        "คำสั่ง for เป็นคำสั่งวนซ้ำที่ใช้ควบคุมการทำงานซ้ำๆในจำนวนรอบที่แน่นอน"
      ]
    },
    {
      "cell_type": "code",
      "metadata": {
        "colab": {
          "base_uri": "https://localhost:8080/"
        },
        "id": "5y5uOOn3zyw3",
        "outputId": "6611565b-f78d-46e5-fef8-6a733ec58a61"
      },
      "source": [
        "for i in [1,2,3] :\n",
        "    o = i**2\n",
        "    print (f'this member = {i} after process = {0}')\n",
        "    "
      ],
      "execution_count": null,
      "outputs": [
        {
          "output_type": "stream",
          "text": [
            "this member = 1 after process = 0\n",
            "this member = 2 after process = 0\n",
            "this member = 3 after process = 0\n"
          ],
          "name": "stdout"
        }
      ]
    },
    {
      "cell_type": "markdown",
      "metadata": {
        "id": "eI8jFnEcVTLM"
      },
      "source": [
        "ตัวอย่่างการใช้คำสั่ง for ในการวนซ้ำ i "
      ]
    },
    {
      "cell_type": "code",
      "metadata": {
        "id": "nvp-4wxHVZe7",
        "colab": {
          "base_uri": "https://localhost:8080/"
        },
        "outputId": "2e8bf1b1-f759-4095-881b-7613ba4807e3"
      },
      "source": [
        "for i in 'Jirachaya' :\r\n",
        "          print(f'{i} -> / ' )"
      ],
      "execution_count": null,
      "outputs": [
        {
          "output_type": "stream",
          "text": [
            "J -> / \n",
            "i -> / \n",
            "r -> / \n",
            "a -> / \n",
            "c -> / \n",
            "h -> / \n",
            "a -> / \n",
            "y -> / \n",
            "a -> / \n"
          ],
          "name": "stdout"
        }
      ]
    },
    {
      "cell_type": "code",
      "metadata": {
        "id": "ETBu9aejWKVR",
        "colab": {
          "base_uri": "https://localhost:8080/"
        },
        "outputId": "fd123754-d034-4e2c-d2e4-b477ead79f1f"
      },
      "source": [
        "for i in 'Jirachaya' :\r\n",
        "      print(f' {i} -> / ' ,end = ' ,') #สั่งให้ print แบบ ไม่เว้นวรรค"
      ],
      "execution_count": null,
      "outputs": [
        {
          "output_type": "stream",
          "text": [
            " J -> /  , i -> /  , r -> /  , a -> /  , c -> /  , h -> /  , a -> /  , y -> /  , a -> /  ,"
          ],
          "name": "stdout"
        }
      ]
    },
    {
      "cell_type": "markdown",
      "metadata": {
        "id": "ytM7GVsYXPNY"
      },
      "source": [
        "สร้าง list ตัวเลขแบบอัตโนมัติ range()"
      ]
    },
    {
      "cell_type": "code",
      "metadata": {
        "id": "BDUfMqA7XIrq",
        "colab": {
          "base_uri": "https://localhost:8080/"
        },
        "outputId": "511943da-622e-4a38-975a-19afd2467ea5"
      },
      "source": [
        "range5_output = range(5)\r\n",
        "print(list(range5_output))"
      ],
      "execution_count": null,
      "outputs": [
        {
          "output_type": "stream",
          "text": [
            "[0, 1, 2, 3, 4]\n"
          ],
          "name": "stdout"
        }
      ]
    },
    {
      "cell_type": "code",
      "metadata": {
        "id": "1xhpbbpCYUVR",
        "colab": {
          "base_uri": "https://localhost:8080/"
        },
        "outputId": "e509d9a5-465b-48fd-b4d8-2c7fc84899d4"
      },
      "source": [
        "for i in range(100) :\r\n",
        "      print('งง',end=' ')"
      ],
      "execution_count": null,
      "outputs": [
        {
          "output_type": "stream",
          "text": [
            "งง งง งง งง งง งง งง งง งง งง งง งง งง งง งง งง งง งง งง งง งง งง งง งง งง งง งง งง งง งง งง งง งง งง งง งง งง งง งง งง งง งง งง งง งง งง งง งง งง งง งง งง งง งง งง งง งง งง งง งง งง งง งง งง งง งง งง งง งง งง งง งง งง งง งง งง งง งง งง งง งง งง งง งง งง งง งง งง งง งง งง งง งง งง งง งง งง งง งง งง "
          ],
          "name": "stdout"
        }
      ]
    },
    {
      "cell_type": "code",
      "metadata": {
        "id": "JjiPGaI1Y592",
        "colab": {
          "base_uri": "https://localhost:8080/"
        },
        "outputId": "cdb8dead-6a71-49fc-a327-0ad2a81270d7"
      },
      "source": [
        "list(range(1,11))"
      ],
      "execution_count": null,
      "outputs": [
        {
          "output_type": "execute_result",
          "data": {
            "text/plain": [
              "[1, 2, 3, 4, 5, 6, 7, 8, 9, 10]"
            ]
          },
          "metadata": {
            "tags": []
          },
          "execution_count": 8
        }
      ]
    },
    {
      "cell_type": "code",
      "metadata": {
        "id": "llKgrvCacb0o",
        "colab": {
          "base_uri": "https://localhost:8080/"
        },
        "outputId": "00da4cfb-2aae-438f-88d0-3cd72bf146ea"
      },
      "source": [
        "list(range(-3,20,4))"
      ],
      "execution_count": null,
      "outputs": [
        {
          "output_type": "execute_result",
          "data": {
            "text/plain": [
              "[-3, 1, 5, 9, 13, 17]"
            ]
          },
          "metadata": {
            "tags": []
          },
          "execution_count": 10
        }
      ]
    },
    {
      "cell_type": "markdown",
      "metadata": {
        "id": "JjOxEP-Bc9AQ"
      },
      "source": [
        "loop in loop\r\n",
        "สามารถใช้ for loop ซ้อนกันสองรอบได้"
      ]
    },
    {
      "cell_type": "code",
      "metadata": {
        "id": "-mc_1jVudGC0",
        "colab": {
          "base_uri": "https://localhost:8080/"
        },
        "outputId": "bb41698a-7641-4944-8e94-887d6fccd643"
      },
      "source": [
        "for name1 in range(2,5): #(2, 3, 4)\r\n",
        "     print(f'now name1 [ {name1} ')\r\n",
        "     for name2 in range(1,13):\r\n",
        "        print(name1,' x ' ,name2, ' = ' ,name1*name2)\r\n",
        "    "
      ],
      "execution_count": null,
      "outputs": [
        {
          "output_type": "stream",
          "text": [
            "now name1 [ 2 \n",
            "2  x  1  =  2\n",
            "2  x  2  =  4\n",
            "2  x  3  =  6\n",
            "2  x  4  =  8\n",
            "2  x  5  =  10\n",
            "2  x  6  =  12\n",
            "2  x  7  =  14\n",
            "2  x  8  =  16\n",
            "2  x  9  =  18\n",
            "2  x  10  =  20\n",
            "2  x  11  =  22\n",
            "2  x  12  =  24\n",
            "now name1 [ 3 \n",
            "3  x  1  =  3\n",
            "3  x  2  =  6\n",
            "3  x  3  =  9\n",
            "3  x  4  =  12\n",
            "3  x  5  =  15\n",
            "3  x  6  =  18\n",
            "3  x  7  =  21\n",
            "3  x  8  =  24\n",
            "3  x  9  =  27\n",
            "3  x  10  =  30\n",
            "3  x  11  =  33\n",
            "3  x  12  =  36\n",
            "now name1 [ 4 \n",
            "4  x  1  =  4\n",
            "4  x  2  =  8\n",
            "4  x  3  =  12\n",
            "4  x  4  =  16\n",
            "4  x  5  =  20\n",
            "4  x  6  =  24\n",
            "4  x  7  =  28\n",
            "4  x  8  =  32\n",
            "4  x  9  =  36\n",
            "4  x  10  =  40\n",
            "4  x  11  =  44\n",
            "4  x  12  =  48\n"
          ],
          "name": "stdout"
        }
      ]
    },
    {
      "cell_type": "code",
      "metadata": {
        "id": "deGLaKebffG9"
      },
      "source": [
        "def print_feelings(I,friends,feeling  =  'คิดถึง') :\r\n",
        "    for friend in friends :\r\n",
        "      print(f'{I}  {feeling}  {friend} ' )"
      ],
      "execution_count": null,
      "outputs": []
    },
    {
      "cell_type": "code",
      "metadata": {
        "id": "ZWHnFX7tgShe"
      },
      "source": [
        "list_friends = ['เตย' , 'หวาน' , 'ปุ๋ย' , 'เบล' , 'ปลื้ม']"
      ],
      "execution_count": null,
      "outputs": []
    },
    {
      "cell_type": "code",
      "metadata": {
        "id": "ONeQZrc4ggTv",
        "colab": {
          "base_uri": "https://localhost:8080/"
        },
        "outputId": "2d4fbeae-7efb-45af-ac89-d83ca3a759b5"
      },
      "source": [
        "print_feelings('แบม' ,list_friends)"
      ],
      "execution_count": null,
      "outputs": [
        {
          "output_type": "stream",
          "text": [
            "แบม  คิดถึง  เตย \n",
            "แบม  คิดถึง  หวาน \n",
            "แบม  คิดถึง  ปุ๋ย \n",
            "แบม  คิดถึง  เบล \n",
            "แบม  คิดถึง  ปลื้ม \n"
          ],
          "name": "stdout"
        }
      ]
    },
    {
      "cell_type": "markdown",
      "metadata": {
        "id": "E9m3Ublmj_5D"
      },
      "source": [
        "condition เงื่อนไข"
      ]
    },
    {
      "cell_type": "code",
      "metadata": {
        "id": "qb2FbIx3kJpF"
      },
      "source": [
        "if condition1 :\r\n",
        "      do someting\r\n",
        "elif condition2 :   #elif  คือ else if\r\n",
        "      do another thig\r\n",
        "else:\r\n",
        "      do ..."
      ],
      "execution_count": null,
      "outputs": []
    },
    {
      "cell_type": "code",
      "metadata": {
        "id": "ewxYWpyrk0_T",
        "colab": {
          "base_uri": "https://localhost:8080/",
          "height": 130
        },
        "outputId": "4f1da806-40b9-492e-97e4-3891f46d5ef3"
      },
      "source": [
        "for name1 in list_friends :\r\n",
        "      for name2 in list_friends :\r\n",
        "        if name1 ==  name2:    #ไม่ปริ้นชื่อคนเดียวกันซ้ำ\r\n",
        "        print(name1, 'คิดถึง' ,name2)"
      ],
      "execution_count": null,
      "outputs": [
        {
          "output_type": "error",
          "ename": "IndentationError",
          "evalue": "ignored",
          "traceback": [
            "\u001b[0;36m  File \u001b[0;32m\"<ipython-input-39-3699203d00bc>\"\u001b[0;36m, line \u001b[0;32m4\u001b[0m\n\u001b[0;31m    print(name1, 'คิดถึง' ,name2)\u001b[0m\n\u001b[0m        ^\u001b[0m\n\u001b[0;31mIndentationError\u001b[0m\u001b[0;31m:\u001b[0m expected an indented block\n"
          ]
        }
      ]
    },
    {
      "cell_type": "code",
      "metadata": {
        "id": "Svj_WZ29mPa-",
        "colab": {
          "base_uri": "https://localhost:8080/",
          "height": 130
        },
        "outputId": "67603ed8-4f8b-46a6-b6f0-d3076fb7b6a0"
      },
      "source": [
        "for name1 in list_friends :\r\n",
        "      for name2 in list_friends :\r\n",
        "        if name1 ==  name2:    #ไม่ปริ้นชื่อคนเดียวกันซ้ำ\r\n",
        "        'do nothing'\r\n",
        "        print(name1, 'คิดถึง' ,name2)"
      ],
      "execution_count": null,
      "outputs": [
        {
          "output_type": "error",
          "ename": "IndentationError",
          "evalue": "ignored",
          "traceback": [
            "\u001b[0;36m  File \u001b[0;32m\"<ipython-input-40-e74ea7f1c891>\"\u001b[0;36m, line \u001b[0;32m4\u001b[0m\n\u001b[0;31m    'do nothing'\u001b[0m\n\u001b[0m               ^\u001b[0m\n\u001b[0;31mIndentationError\u001b[0m\u001b[0;31m:\u001b[0m expected an indented block\n"
          ]
        }
      ]
    },
    {
      "cell_type": "markdown",
      "metadata": {
        "id": "QpgwRVSCmy-3"
      },
      "source": [
        "==,!=,>=,<=,<,>"
      ]
    },
    {
      "cell_type": "code",
      "metadata": {
        "id": "GeggYzrTnEhH",
        "colab": {
          "base_uri": "https://localhost:8080/"
        },
        "outputId": "97d89e46-5ba5-4263-b59d-5b69885d07f4"
      },
      "source": [
        "'แบม' == 'เตย'"
      ],
      "execution_count": null,
      "outputs": [
        {
          "output_type": "execute_result",
          "data": {
            "text/plain": [
              "False"
            ]
          },
          "metadata": {
            "tags": []
          },
          "execution_count": 41
        }
      ]
    },
    {
      "cell_type": "code",
      "metadata": {
        "id": "bjPxnt-unPr1",
        "colab": {
          "base_uri": "https://localhost:8080/"
        },
        "outputId": "366a0e95-0c65-4821-d173-245f3e6697e1"
      },
      "source": [
        "'แบม' != 'เตย'"
      ],
      "execution_count": null,
      "outputs": [
        {
          "output_type": "execute_result",
          "data": {
            "text/plain": [
              "True"
            ]
          },
          "metadata": {
            "tags": []
          },
          "execution_count": 42
        }
      ]
    },
    {
      "cell_type": "markdown",
      "metadata": {
        "id": "PR18gEHQnrdv"
      },
      "source": [
        "#HW\r\n",
        "\r\n",
        "###เขียน function  ตัดเกรด โดยที่ input เป็นคะแนน(0-100),output  เป็นเกรด (F-A)นลูบตัดเกรด input = [1,50,65,90,101,-5,49]"
      ]
    },
    {
      "cell_type": "markdown",
      "metadata": {
        "id": "CoQ9ttkq8OQC"
      },
      "source": [
        "กำหนด\n",
        "\n",
        "ถ้าคะแนนอยู่ระหว่างมากกว่าหรือเท่ากับ 0 แต่น้อยกว่า 50 จะได้เกรด F\n",
        "\n",
        "ถ้าคะแนนอยู่ระหว่างมากกว่าหรือเท่ากับ 50 แต่น้อยกว่า 55 จะได้เกรด D\n",
        "\n",
        "ถ้าคะแนนอยู่ระหว่างมากกว่าหรือเท่ากับ 55 แต่น้อยกว่า 60 จะได้เกรด D+\n",
        "\n",
        "ถ้าคะแนนอยู่ระหว่างมากกว่าหรือเท่ากับ 60 แต่น้อยกว่า 65 จะได้เกรด C\n",
        "\n",
        "ถ้าคะแนนอยู่ระหว่างมากกว่าหรือเท่ากับ 65 แต่น้อยกว่า 70 จะได้เกรด C+\n",
        "\n",
        "ถ้าคะแนนอยู่ระหว่างมากกว่าหรือเท่ากับ 70 แต่น้อยกว่า 75 จะได้เกรด B\n",
        "\n",
        "ถ้าคะแนนอยู่ระหว่างมากกว่าหรือเท่ากับ 75 แต่น้อยกว่า 80 จะได้เกรด B+\n",
        "\n",
        "ถ้าคะแนนอยู่ระหว่างมากกว่าหรือเท่ากับ 80 จะได้เกรด A\n",
        "\n",
        "แต่ว่าค่าคะแนนจะต้องไม่ต่ำกว่า 0 และมากกว่า 100 ไม่งั้นจะเกิด error"
      ]
    },
    {
      "cell_type": "code",
      "metadata": {
        "id": "pQhSqFtYEnAQ"
      },
      "source": [
        "list_grade = [1,50,65,90,101,-5,49]"
      ],
      "execution_count": 3,
      "outputs": []
    },
    {
      "cell_type": "code",
      "metadata": {
        "id": "3L_sDfxJFLuO"
      },
      "source": [
        "def grade (score) :\n",
        "  if 0 <= score< 50 :\n",
        "    print(f'ได้คะแนน {score} จะได้เกรด F ')\n",
        "  elif 50 <= score< 55 :\n",
        "    print(f'ได้คะแนน {score} จะได้เกรด D ')\n",
        "  elif 55 <= score< 60 :\n",
        "    print(f'ได้คะแนน {score} จะได้เกรด D+ ')\n",
        "  elif 60 <= score< 65 :\n",
        "    print(f'ได้คะแนน {score} จะได้เกรด C ')\n",
        "  elif 65 <= score< 70 :\n",
        "    print(f'ได้คะแนน {score} จะได้เกรด C+ ')\n",
        "  elif 70 <= score< 75 :\n",
        "    print(f'ได้คะแนน {score} จะได้เกรด B ')\n",
        "  elif 75 <= score< 80 :\n",
        "    print(f'ได้คะแนน {score} จะได้เกรด B+ ')\n",
        "  elif 80 <= score< 100 :\n",
        "    print(f'ได้คะแนน {score} จะได้เกรด A ')\n",
        "  else:\n",
        "    print(f'ได้คะแนน {score} จะได้เกรด error ')"
      ],
      "execution_count": 4,
      "outputs": []
    },
    {
      "cell_type": "code",
      "metadata": {
        "id": "nyOM8ZWGHLj5",
        "outputId": "fce181b6-2dfe-4bbc-b4a9-a28f67e1a9f1",
        "colab": {
          "base_uri": "https://localhost:8080/"
        }
      },
      "source": [
        "for i in list_grade :\n",
        "  (grade(i))"
      ],
      "execution_count": 5,
      "outputs": [
        {
          "output_type": "stream",
          "text": [
            "ได้คะแนน 1 จะได้เกรด F \n",
            "ได้คะแนน 50 จะได้เกรด D \n",
            "ได้คะแนน 65 จะได้เกรด C+ \n",
            "ได้คะแนน 90 จะได้เกรด A \n",
            "ได้คะแนน 101 จะได้เกรด error \n",
            "ได้คะแนน -5 จะได้เกรด error \n",
            "ได้คะแนน 49 จะได้เกรด F \n"
          ],
          "name": "stdout"
        }
      ]
    }
  ]
}